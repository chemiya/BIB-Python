{
 "cells": [
  {
   "cell_type": "code",
   "execution_count": 1,
   "metadata": {},
   "outputs": [],
   "source": [
    "import numpy as np\n",
    "import pandas as pd\n",
    "from sklearn.preprocessing import MinMaxScaler"
   ]
  },
  {
   "attachments": {},
   "cell_type": "markdown",
   "metadata": {},
   "source": [
    "# Adaline\n",
    "\n",
    "El Adaline (Adaptive Linear Neuron) es un modelo de red neuronal de una sola capa que emplea una función de activación lineal, similar al perceptrón, pero con un algoritmo de aprendizaje que ajusta los pesos de manera continua mediante un proceso de descenso de gradiente, buscando minimizar una función de costo basada en el error cuadrático medio."
   ]
  },
  {
   "cell_type": "code",
   "execution_count": 11,
   "metadata": {},
   "outputs": [],
   "source": [
    "dataset = pd.read_csv('boston.csv')"
   ]
  },
  {
   "cell_type": "code",
   "execution_count": 12,
   "metadata": {},
   "outputs": [],
   "source": [
    "# Elimina las filas con valores faltantes en la columna \"MEDV\" y reorganiza los índices de las filas restantes.\n",
    "dataset=dataset.dropna(subset=[\"MEDV\"]).reset_index(drop=True)"
   ]
  },
  {
   "cell_type": "code",
   "execution_count": 28,
   "metadata": {},
   "outputs": [],
   "source": [
    "y=dataset[\"MEDV\"]"
   ]
  },
  {
   "cell_type": "code",
   "execution_count": 29,
   "metadata": {},
   "outputs": [],
   "source": [
    "# Sin esa columna\n",
    "X=dataset.drop(columns=[\"MEDV\"])"
   ]
  },
  {
   "cell_type": "code",
   "execution_count": 30,
   "metadata": {},
   "outputs": [],
   "source": [
    "scaler = MinMaxScaler()"
   ]
  },
  {
   "cell_type": "code",
   "execution_count": 31,
   "metadata": {},
   "outputs": [],
   "source": [
    "X = scaler.fit_transform(X)#solo el x"
   ]
  },
  {
   "cell_type": "code",
   "execution_count": 17,
   "metadata": {},
   "outputs": [],
   "source": [
    "from sklearn.model_selection import train_test_split, StratifiedKFold\n",
    "K = 10\n",
    "skf = StratifiedKFold (n_splits=K)"
   ]
  },
  {
   "cell_type": "code",
   "execution_count": 32,
   "metadata": {},
   "outputs": [],
   "source": [
    "from sklearn.linear_model import  SGDRegressor"
   ]
  },
  {
   "cell_type": "code",
   "execution_count": 33,
   "metadata": {},
   "outputs": [],
   "source": [
    "from sklearn import preprocessing\n",
    "# Guardar etiquetas y transformar\n",
    "clase=preprocessing.LabelEncoder()\n",
    "clase.fit(np.unique(y))\n",
    "y_auxiliar=clase.transform(y)\n"
   ]
  },
  {
   "cell_type": "code",
   "execution_count": 35,
   "metadata": {},
   "outputs": [],
   "source": [
    "r_class = pd.DataFrame (columns=['Fold', 'aciertos',\"R2\"])"
   ]
  },
  {
   "cell_type": "code",
   "execution_count": 52,
   "metadata": {},
   "outputs": [
    {
     "name": "stderr",
     "output_type": "stream",
     "text": [
      "c:\\Users\\jmlozanoo\\AppData\\Local\\Programs\\Python\\Python311\\Lib\\site-packages\\sklearn\\model_selection\\_split.py:700: UserWarning: The least populated class in y has only 1 members, which is less than n_splits=10.\n",
      "  warnings.warn(\n"
     ]
    }
   ],
   "source": [
    "\n",
    "k=0\n",
    "for train_index,test_index in skf.split(X, y_auxiliar):\n",
    "    error=pd.DataFrame(columns=[\"Real\",\"Predicho\",\"Error\",\"Error relativo\"])\n",
    "\n",
    "    #SGD predicción\n",
    "    regr = SGDRegressor(max_iter=5000, tol=1e-5, random_state=20)\n",
    "    regr.fit(X[train_index],y[train_index])\n",
    "    prediciones=regr.predict(X[test_index])\n",
    "\n",
    "\n",
    "\n",
    "    # Error\n",
    "    error[\"Real\"]=y[test_index]\n",
    "    error[\"Predicho\"]=prediciones\n",
    "    error[\"Error\"]=abs(error[\"Real\"]-error[\"Predicho\"])\n",
    "    error[\"Error relativo\"]=(error[\"Error\"]/error[\"Real\"])*100\n",
    "    # Contar mayores de 15\n",
    "    porcentaje=error.apply(lambda x: x['Error relativo'] < 15, axis=1).sum()/len(error)\n",
    "    \n",
    "\n",
    "    r_class.loc[k]=[k,porcentaje,regr.score(X[test_index],y[test_index])]\n",
    "    k+=1"
   ]
  },
  {
   "cell_type": "code",
   "execution_count": 53,
   "metadata": {},
   "outputs": [
    {
     "data": {
      "text/html": [
       "<div>\n",
       "<style scoped>\n",
       "    .dataframe tbody tr th:only-of-type {\n",
       "        vertical-align: middle;\n",
       "    }\n",
       "\n",
       "    .dataframe tbody tr th {\n",
       "        vertical-align: top;\n",
       "    }\n",
       "\n",
       "    .dataframe thead th {\n",
       "        text-align: right;\n",
       "    }\n",
       "</style>\n",
       "<table border=\"1\" class=\"dataframe\">\n",
       "  <thead>\n",
       "    <tr style=\"text-align: right;\">\n",
       "      <th></th>\n",
       "      <th>Fold</th>\n",
       "      <th>aciertos</th>\n",
       "      <th>R2</th>\n",
       "    </tr>\n",
       "  </thead>\n",
       "  <tbody>\n",
       "    <tr>\n",
       "      <th>0</th>\n",
       "      <td>0</td>\n",
       "      <td>0.717391</td>\n",
       "      <td>0.826068</td>\n",
       "    </tr>\n",
       "    <tr>\n",
       "      <th>1</th>\n",
       "      <td>1</td>\n",
       "      <td>0.630435</td>\n",
       "      <td>0.757883</td>\n",
       "    </tr>\n",
       "    <tr>\n",
       "      <th>2</th>\n",
       "      <td>2</td>\n",
       "      <td>0.622222</td>\n",
       "      <td>0.588573</td>\n",
       "    </tr>\n",
       "    <tr>\n",
       "      <th>3</th>\n",
       "      <td>3</td>\n",
       "      <td>0.555556</td>\n",
       "      <td>0.796888</td>\n",
       "    </tr>\n",
       "    <tr>\n",
       "      <th>4</th>\n",
       "      <td>4</td>\n",
       "      <td>0.644444</td>\n",
       "      <td>0.855750</td>\n",
       "    </tr>\n",
       "    <tr>\n",
       "      <th>5</th>\n",
       "      <td>5</td>\n",
       "      <td>0.777778</td>\n",
       "      <td>0.668170</td>\n",
       "    </tr>\n",
       "    <tr>\n",
       "      <th>6</th>\n",
       "      <td>6</td>\n",
       "      <td>0.666667</td>\n",
       "      <td>0.634983</td>\n",
       "    </tr>\n",
       "    <tr>\n",
       "      <th>7</th>\n",
       "      <td>7</td>\n",
       "      <td>0.622222</td>\n",
       "      <td>0.716296</td>\n",
       "    </tr>\n",
       "    <tr>\n",
       "      <th>8</th>\n",
       "      <td>8</td>\n",
       "      <td>0.666667</td>\n",
       "      <td>0.622011</td>\n",
       "    </tr>\n",
       "    <tr>\n",
       "      <th>9</th>\n",
       "      <td>9</td>\n",
       "      <td>0.6</td>\n",
       "      <td>0.558442</td>\n",
       "    </tr>\n",
       "  </tbody>\n",
       "</table>\n",
       "</div>"
      ],
      "text/plain": [
       "   Fold  aciertos        R2\n",
       "0     0  0.717391  0.826068\n",
       "1     1  0.630435  0.757883\n",
       "2     2  0.622222  0.588573\n",
       "3     3  0.555556  0.796888\n",
       "4     4  0.644444  0.855750\n",
       "5     5  0.777778  0.668170\n",
       "6     6  0.666667  0.634983\n",
       "7     7  0.622222  0.716296\n",
       "8     8  0.666667  0.622011\n",
       "9     9       0.6  0.558442"
      ]
     },
     "execution_count": 53,
     "metadata": {},
     "output_type": "execute_result"
    }
   ],
   "source": [
    "r_class"
   ]
  }
 ],
 "metadata": {
  "kernelspec": {
   "display_name": "Python 3 (ipykernel)",
   "language": "python",
   "name": "python3"
  },
  "language_info": {
   "codemirror_mode": {
    "name": "ipython",
    "version": 3
   },
   "file_extension": ".py",
   "mimetype": "text/x-python",
   "name": "python",
   "nbconvert_exporter": "python",
   "pygments_lexer": "ipython3",
   "version": "3.11.2"
  }
 },
 "nbformat": 4,
 "nbformat_minor": 4
}
